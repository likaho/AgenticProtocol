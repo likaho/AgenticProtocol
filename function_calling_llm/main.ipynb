{
 "cells": [
  {
   "cell_type": "code",
   "execution_count": null,
   "metadata": {},
   "outputs": [],
   "source": [
    "import chromadb\n",
    "from openapiutils import download_openapi_spec, get_function_names_from_file, create_function_doc, clean_url, generate_hash, create_function_docs\n",
    "\n",
    "chroma_client = chromadb.PersistentClient(path=\"agentprotocol/vectordb\")\n"
   ]
  },
  {
   "cell_type": "code",
   "execution_count": null,
   "metadata": {},
   "outputs": [],
   "source": [
    "doc2 = f'''\n",
    "Function:\n",
    "def give_joke(category : str):\n",
    "\"\"\"\n",
    "Joke categories. Supports: Any, Misc, Programming, Dark, Pun, Spooky, Christmas.\n",
    "\"\"\"\n",
    "'''"
   ]
  },
  {
   "cell_type": "code",
   "execution_count": null,
   "metadata": {},
   "outputs": [],
   "source": [
    "openapi_url = \"https://raw.githubusercontent.com/open-meteo/open-meteo/main/openapi.yml\"\n",
    "service_url = \"https://api.open-meteo.com\"\n",
    "output_dir = generate_hash(clean_url(openapi_url))\n",
    "download_openapi_spec(openapi_url, service_url)"
   ]
  },
  {
   "cell_type": "code",
   "execution_count": null,
   "metadata": {},
   "outputs": [],
   "source": [
    "import subprocess\n",
    "\n",
    "# Construct the command using string formatting\n",
    "command = f\"openapi-python-generator openapi.json {output_dir}/\"  # !openapi-python-generator openapi.json ./api_specification_main/\n",
    "subprocess.run(command.split(), check=True)"
   ]
  },
  {
   "cell_type": "code",
   "execution_count": null,
   "metadata": {},
   "outputs": [],
   "source": [
    "import os\n",
    "os.remove(\"openapi.yml\")\n",
    "os.remove(\"openapi.json\")"
   ]
  },
  {
   "cell_type": "code",
   "execution_count": null,
   "metadata": {},
   "outputs": [],
   "source": [
    "function_docs = create_function_docs(output_dir)"
   ]
  },
  {
   "cell_type": "code",
   "execution_count": null,
   "metadata": {},
   "outputs": [],
   "source": [
    "doc_ids = []\n",
    "doc_metadatas = []\n",
    "for function_doc in function_docs:\n",
    "    doc_ids.append(str(generate_hash(function_doc)))\n",
    "    doc_metadatas.append({\"uri\": \"\", \"type\": \"native\"})\n",
    "    print(str(generate_hash(function_doc)))"
   ]
  },
  {
   "cell_type": "code",
   "execution_count": null,
   "metadata": {},
   "outputs": [],
   "source": [
    "collection = chroma_client.get_or_create_collection(name=\"tools\")\n",
    "collection.add(\n",
    "    documents=function_docs,\n",
    "    metadatas=doc_metadatas,\n",
    "    ids=doc_ids\n",
    ")\n"
   ]
  },
  {
   "cell_type": "code",
   "execution_count": null,
   "metadata": {},
   "outputs": [],
   "source": [
    "user_query = \"Hey how is the current weather and windspeed in New York?\""
   ]
  },
  {
   "cell_type": "code",
   "execution_count": null,
   "metadata": {},
   "outputs": [],
   "source": [
    "prompt = f'''\n",
    "    Function:\n",
    "    no_op():\n",
    "    \"\"\"\n",
    "    Default OOD\n",
    "    \"\"\"\n",
    "    '''"
   ]
  },
  {
   "cell_type": "code",
   "execution_count": null,
   "metadata": {},
   "outputs": [],
   "source": [
    "results = collection.query(\n",
    "    query_texts=[user_query], \n",
    "    n_results=2, # how many results to return\n",
    "    # include=[\"embeddings\", \"metadatas\", \"documents\", \"distances\"]\n",
    "    include=[\"documents\"]\n",
    ")\n",
    "\n",
    "for items in results[\"documents\"]:\n",
    "    for item in items:\n",
    "        # print(str(item))\n",
    "        prompt += str(item) + \"\\n\"\n",
    "\n",
    "prompt = prompt + f'''User Query: {user_query}<human_end>'''\n",
    "print(prompt)\n"
   ]
  },
  {
   "cell_type": "code",
   "execution_count": null,
   "metadata": {},
   "outputs": [],
   "source": [
    "from utils import query_raven\n",
    "call = query_raven(prompt)\n",
    "print (call)"
   ]
  },
  {
   "cell_type": "code",
   "execution_count": null,
   "metadata": {},
   "outputs": [],
   "source": [
    "eval(call)"
   ]
  },
  {
   "cell_type": "code",
   "execution_count": null,
   "metadata": {},
   "outputs": [],
   "source": [
    "count = len(chroma_client.list_collections())\n",
    "print(count)\n",
    "if count > 0:\n",
    "    print(chroma_client.list_collections())"
   ]
  },
  {
   "cell_type": "code",
   "execution_count": null,
   "metadata": {},
   "outputs": [],
   "source": [
    "chroma_client.delete_collection(\"tools\")"
   ]
  },
  {
   "cell_type": "code",
   "execution_count": null,
   "metadata": {},
   "outputs": [],
   "source": [
    "directory_path = 'a41cc9d3b6585b73a594eb1cb0cab5fcd3f67dad09b45c4572583da07b3cc751'\n",
    "import shutil\n",
    "if os.path.exists(directory_path):\n",
    "    shutil.rmtree(directory_path)"
   ]
  }
 ],
 "metadata": {
  "kernelspec": {
   "display_name": "venv",
   "language": "python",
   "name": "python3"
  },
  "language_info": {
   "codemirror_mode": {
    "name": "ipython",
    "version": 3
   },
   "file_extension": ".py",
   "mimetype": "text/x-python",
   "name": "python",
   "nbconvert_exporter": "python",
   "pygments_lexer": "ipython3",
   "version": "3.12.3"
  }
 },
 "nbformat": 4,
 "nbformat_minor": 2
}
