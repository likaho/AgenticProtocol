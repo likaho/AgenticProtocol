{
 "cells": [
  {
   "cell_type": "code",
   "execution_count": 4,
   "metadata": {},
   "outputs": [],
   "source": [
    "import chromadb\n",
    "from openapiutils import download_openapi_spec, get_function_names_from_file, create_function_docs_and_import_statements, clean_url, generate_hash\n",
    "\n",
    "chroma_client = chromadb.PersistentClient(path=\"agentprotocol/vectordb\")\n"
   ]
  },
  {
   "cell_type": "code",
   "execution_count": null,
   "metadata": {},
   "outputs": [],
   "source": [
    "doc2 = f'''\n",
    "Function:\n",
    "def give_joke(category : str):\n",
    "\"\"\"\n",
    "Joke categories. Supports: Any, Misc, Programming, Dark, Pun, Spooky, Christmas.\n",
    "\"\"\"\n",
    "'''"
   ]
  },
  {
   "cell_type": "code",
   "execution_count": 5,
   "metadata": {},
   "outputs": [
    {
     "name": "stdout",
     "output_type": "stream",
     "text": [
      "Downloaded and modified OpenAPI spec saved to: openapi.json\n"
     ]
    }
   ],
   "source": [
    "openapi_url = \"https://raw.githubusercontent.com/open-meteo/open-meteo/main/openapi.yml\"\n",
    "service_url = \"https://api.open-meteo.com\"\n",
    "output_dir = generate_hash(clean_url(openapi_url))\n",
    "download_openapi_spec(openapi_url, service_url)"
   ]
  },
  {
   "cell_type": "code",
   "execution_count": 6,
   "metadata": {},
   "outputs": [
    {
     "data": {
      "text/plain": [
       "CompletedProcess(args=['openapi-python-generator', 'openapi.json', 'a41cc9d3b6585b73a594eb1cb0cab5fcd3f67dad09b45c4572583da07b3cc751/'], returncode=0)"
      ]
     },
     "execution_count": 6,
     "metadata": {},
     "output_type": "execute_result"
    }
   ],
   "source": [
    "import subprocess\n",
    "\n",
    "# Construct the command using string formatting\n",
    "command = f\"openapi-python-generator openapi.json {output_dir}/\"  # !openapi-python-generator openapi.json ./api_specification_main/\n",
    "subprocess.run(command.split(), check=True)"
   ]
  },
  {
   "cell_type": "code",
   "execution_count": 7,
   "metadata": {},
   "outputs": [],
   "source": [
    "import os\n",
    "os.remove(\"openapi.yml\")\n",
    "os.remove(\"openapi.json\")"
   ]
  },
  {
   "cell_type": "code",
   "execution_count": 8,
   "metadata": {},
   "outputs": [
    {
     "name": "stdout",
     "output_type": "stream",
     "text": [
      "Creating function docs\n"
     ]
    }
   ],
   "source": [
    "function_docs, import_statements = create_function_docs_and_import_statements(output_dir)"
   ]
  },
  {
   "cell_type": "code",
   "execution_count": 9,
   "metadata": {},
   "outputs": [
    {
     "name": "stdout",
     "output_type": "stream",
     "text": [
      "ca264c26145649218b871d756106fd3423dca0d72666986a06798e20a5d2d285\n"
     ]
    }
   ],
   "source": [
    "doc_ids = []\n",
    "doc_metadatas = []\n",
    "for function_doc in function_docs:\n",
    "    doc_ids.append(str(generate_hash(function_doc)))\n",
    "    doc_metadatas.append({\"uri\": \"\", \"type\": \"native\"})\n",
    "    print(str(generate_hash(function_doc)))"
   ]
  },
  {
   "cell_type": "code",
   "execution_count": 10,
   "metadata": {},
   "outputs": [],
   "source": [
    "collection = chroma_client.get_or_create_collection(name=\"tools\")\n",
    "collection.add(\n",
    "    documents=function_docs,\n",
    "    metadatas=doc_metadatas,\n",
    "    ids=doc_ids\n",
    ")\n"
   ]
  },
  {
   "cell_type": "code",
   "execution_count": 11,
   "metadata": {},
   "outputs": [],
   "source": [
    "user_query = \"Hey how is the current weather and windspeed in New York?\""
   ]
  },
  {
   "cell_type": "code",
   "execution_count": 12,
   "metadata": {},
   "outputs": [],
   "source": [
    "prompt = f'''\n",
    "    Function:\n",
    "    no_op():\n",
    "    \"\"\"\n",
    "    Default OOD\n",
    "    \"\"\"\n",
    "    '''"
   ]
  },
  {
   "cell_type": "code",
   "execution_count": 13,
   "metadata": {},
   "outputs": [
    {
     "name": "stderr",
     "output_type": "stream",
     "text": [
      "Number of requested results 2 is greater than number of elements in index 1, updating n_results = 1\n"
     ]
    },
    {
     "name": "stdout",
     "output_type": "stream",
     "text": [
      "\n",
      "    Function:\n",
      "    no_op():\n",
      "    \"\"\"\n",
      "    Default OOD\n",
      "    \"\"\"\n",
      "    \n",
      "    Function:\n",
      "    get_v1forecast(latitude: float, longitude: float, hourly: Optional[List[str]] = None, daily: Optional[List[str]] = None, current_weather: Optional[bool] = None, temperature_unit: Optional[str] = None, wind_speed_unit: Optional[str] = None, timeformat: Optional[str] = None, timezone: Optional[str] = None, past_days: Optional[int] = None, api_config_override: Optional[a41cc9d3b6585b73a594eb1cb0cab5fcd3f67dad09b45c4572583da07b3cc751.api_config.APIConfig] = None) -> Dict[str, Any]\n",
      "    \"\"\"\n",
      "    Requires the latitude and longitude.\n",
      "    Set current_weather to True to get the weather.\n",
      "    Set hourly or daily based on preference.\n",
      "    \"\"\"\n",
      "User Query: Hey how is the current weather and windspeed in New York?<human_end>\n"
     ]
    }
   ],
   "source": [
    "results = collection.query(\n",
    "    query_texts=[user_query], \n",
    "    n_results=2, # how many results to return\n",
    "    # include=[\"embeddings\", \"metadatas\", \"documents\", \"distances\"]\n",
    "    include=[\"documents\"]\n",
    ")\n",
    "\n",
    "for items in results[\"documents\"]:\n",
    "    for item in items:\n",
    "        # print(str(item))\n",
    "        prompt += str(item) + \"\\n\"\n",
    "\n",
    "prompt = prompt + f'''User Query: {user_query}<human_end>'''\n",
    "print(prompt)\n"
   ]
  },
  {
   "cell_type": "code",
   "execution_count": 14,
   "metadata": {},
   "outputs": [
    {
     "name": "stderr",
     "output_type": "stream",
     "text": [
      "c:\\Projects\\Old\\AgenticProtocol\\function_calling_llm\\venv\\Lib\\site-packages\\tqdm\\auto.py:21: TqdmWarning: IProgress not found. Please update jupyter and ipywidgets. See https://ipywidgets.readthedocs.io/en/stable/user_install.html\n",
      "  from .autonotebook import tqdm as notebook_tqdm\n",
      "None of PyTorch, TensorFlow >= 2.0, or Flax have been found. Models won't be available and only tokenizers, configuration and file/data utilities can be used.\n"
     ]
    },
    {
     "name": "stdout",
     "output_type": "stream",
     "text": [
      "get_v1forecast(latitude=40.7128, longitude=-74.0060, current_weather=True)\n"
     ]
    }
   ],
   "source": [
    "from utils import query_raven\n",
    "call = query_raven(prompt)\n",
    "print (call)"
   ]
  },
  {
   "cell_type": "code",
   "execution_count": 16,
   "metadata": {},
   "outputs": [
    {
     "data": {
      "text/plain": [
       "{'latitude': 40.710335,\n",
       " 'longitude': -73.99309,\n",
       " 'generationtime_ms': 0.08296966552734375,\n",
       " 'utc_offset_seconds': 0,\n",
       " 'timezone': 'GMT',\n",
       " 'timezone_abbreviation': 'GMT',\n",
       " 'elevation': 32.0,\n",
       " 'current_weather_units': {'time': 'iso8601',\n",
       "  'interval': 'seconds',\n",
       "  'temperature': '°C',\n",
       "  'windspeed': 'km/h',\n",
       "  'winddirection': '°',\n",
       "  'is_day': '',\n",
       "  'weathercode': 'wmo code'},\n",
       " 'current_weather': {'time': '2024-07-05T15:45',\n",
       "  'interval': 900,\n",
       "  'temperature': 28.9,\n",
       "  'windspeed': 8.8,\n",
       "  'winddirection': 192,\n",
       "  'is_day': 1,\n",
       "  'weathercode': 0}}"
      ]
     },
     "execution_count": 16,
     "metadata": {},
     "output_type": "execute_result"
    }
   ],
   "source": [
    "for import_statement in import_statements:\n",
    "    exec(import_statement)\n",
    "eval(call)"
   ]
  },
  {
   "cell_type": "code",
   "execution_count": null,
   "metadata": {},
   "outputs": [],
   "source": [
    "count = len(chroma_client.list_collections())\n",
    "print(count)\n",
    "if count > 0:\n",
    "    print(chroma_client.list_collections())"
   ]
  },
  {
   "cell_type": "code",
   "execution_count": 17,
   "metadata": {},
   "outputs": [],
   "source": [
    "chroma_client.delete_collection(\"tools\")"
   ]
  },
  {
   "cell_type": "code",
   "execution_count": 18,
   "metadata": {},
   "outputs": [],
   "source": [
    "directory_path = 'a41cc9d3b6585b73a594eb1cb0cab5fcd3f67dad09b45c4572583da07b3cc751'\n",
    "import shutil\n",
    "if os.path.exists(directory_path):\n",
    "    shutil.rmtree(directory_path)"
   ]
  }
 ],
 "metadata": {
  "kernelspec": {
   "display_name": "venv",
   "language": "python",
   "name": "python3"
  },
  "language_info": {
   "codemirror_mode": {
    "name": "ipython",
    "version": 3
   },
   "file_extension": ".py",
   "mimetype": "text/x-python",
   "name": "python",
   "nbconvert_exporter": "python",
   "pygments_lexer": "ipython3",
   "version": "3.12.3"
  }
 },
 "nbformat": 4,
 "nbformat_minor": 2
}
