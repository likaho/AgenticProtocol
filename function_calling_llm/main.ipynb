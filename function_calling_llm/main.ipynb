{
 "cells": [
  {
   "cell_type": "code",
   "execution_count": 29,
   "metadata": {},
   "outputs": [],
   "source": [
    "import chromadb\n",
    "from openapiutils import download_openapi_spec, generate_open_api_services, create_function_names_docs_import_statements, clean_url, generate_hash\n",
    "\n",
    "chroma_client = chromadb.PersistentClient(path=\"agentprotocol/vectordb\")\n"
   ]
  },
  {
   "cell_type": "code",
   "execution_count": null,
   "metadata": {},
   "outputs": [],
   "source": [
    "doc2 = f'''\n",
    "Function:\n",
    "def give_joke(category : str):\n",
    "\"\"\"\n",
    "Joke categories. Supports: Any, Misc, Programming, Dark, Pun, Spooky, Christmas.\n",
    "\"\"\"\n",
    "'''"
   ]
  },
  {
   "cell_type": "code",
   "execution_count": 30,
   "metadata": {},
   "outputs": [],
   "source": [
    "import subprocess\n",
    "import os\n",
    "import json\n",
    "import yaml\n",
    "from urllib.request import urlretrieve\n",
    "\n",
    "openapi_url = \"https://raw.githubusercontent.com/open-meteo/open-meteo/main/openapi.yml\"\n",
    "service_url = \"https://api.open-meteo.com\"\n",
    "output_dir = generate_hash(clean_url(openapi_url))\n",
    "\n",
    "\n",
    "if not os.path.exists(output_dir):\n",
    "    os.mkdir(output_dir)\n",
    "    output_json_file = output_dir + \"\\\\openapi.json\"\n",
    "    if not openapi_url:\n",
    "        raise ValueError(\"Please provide a valid OpenAPI URL\")\n",
    "\n",
    "try:\n",
    "    # Download the OpenAPI spec\n",
    "    urlretrieve(openapi_url, output_dir + \"\\\\openapi.yml\")\n",
    "\n",
    "    # Read the content of the file\n",
    "    with open(output_dir + \"\\\\openapi.yml\", \"r\") as file:\n",
    "        file_content = file.read()\n",
    "\n",
    "    # Modify content (replace int and float types with number)\n",
    "    file_content = file_content.replace(\"int\\n\", \"number\\n\")\n",
    "    file_content = file_content.replace(\"float\\n\", \"number\\n\")\n",
    "\n",
    "    # Parse the content as YAML\n",
    "    data = yaml.safe_load(file_content)\n",
    "\n",
    "    # Add servers entry (optional, modify if your OpenAPI spec requires a different structure)\n",
    "    data[\"servers\"] = [{\"url\": service_url}]\n",
    "\n",
    "    # Convert to JSON and save\n",
    "    with open(output_json_file, \"w\") as file:\n",
    "        json.dump(data, file, indent=4)  # Add indentation for readability (optional)\n",
    "\n",
    "except (ValueError, IOError) as e:\n",
    "    print(f\"Error: {e}\")\n",
    "\n",
    "    # Construct the command using string formatting\n",
    "    command = f\"openapi-python-generator {output_dir}//openapi.json {output_dir}/\"  # !openapi-python-generator openapi.json ./api_specification_main/\n",
    "    subprocess.run(command.split(), check=True)\n",
    "\n",
    "    print(output_dir)"
   ]
  },
  {
   "cell_type": "code",
   "execution_count": 33,
   "metadata": {},
   "outputs": [
    {
     "name": "stdout",
     "output_type": "stream",
     "text": [
      "openapi-python-generator a41cc9d3b6585b73a594eb1cb0cab5fcd3f67dad09b45c4572583da07b3cc751/openapi.json a41cc9d3b6585b73a594eb1cb0cab5fcd3f67dad09b45c4572583da07b3cc751/\n"
     ]
    },
    {
     "data": {
      "text/plain": [
       "CompletedProcess(args=['openapi-python-generator', 'a41cc9d3b6585b73a594eb1cb0cab5fcd3f67dad09b45c4572583da07b3cc751/openapi.json', 'a41cc9d3b6585b73a594eb1cb0cab5fcd3f67dad09b45c4572583da07b3cc751/'], returncode=0)"
      ]
     },
     "execution_count": 33,
     "metadata": {},
     "output_type": "execute_result"
    }
   ],
   "source": [
    "import subprocess\n",
    "\n",
    "# Construct the command using string formatting\n",
    "command = f\"openapi-python-generator {output_dir}/openapi.json {output_dir}/\"  # !openapi-python-generator openapi.json ./api_specification_main/\n",
    "subprocess.run(command.split(), check=True)"
   ]
  },
  {
   "cell_type": "code",
   "execution_count": 34,
   "metadata": {},
   "outputs": [
    {
     "ename": "FileNotFoundError",
     "evalue": "[WinError 2] The system cannot find the file specified: 'openapi.yml'",
     "output_type": "error",
     "traceback": [
      "\u001b[1;31m---------------------------------------------------------------------------\u001b[0m",
      "\u001b[1;31mFileNotFoundError\u001b[0m                         Traceback (most recent call last)",
      "Cell \u001b[1;32mIn[34], line 2\u001b[0m\n\u001b[0;32m      1\u001b[0m \u001b[38;5;28;01mimport\u001b[39;00m \u001b[38;5;21;01mos\u001b[39;00m\n\u001b[1;32m----> 2\u001b[0m \u001b[43mos\u001b[49m\u001b[38;5;241;43m.\u001b[39;49m\u001b[43mremove\u001b[49m\u001b[43m(\u001b[49m\u001b[38;5;124;43m\"\u001b[39;49m\u001b[38;5;124;43mopenapi.yml\u001b[39;49m\u001b[38;5;124;43m\"\u001b[39;49m\u001b[43m)\u001b[49m\n\u001b[0;32m      3\u001b[0m os\u001b[38;5;241m.\u001b[39mremove(\u001b[38;5;124m\"\u001b[39m\u001b[38;5;124mopenapi.json\u001b[39m\u001b[38;5;124m\"\u001b[39m)\n",
      "\u001b[1;31mFileNotFoundError\u001b[0m: [WinError 2] The system cannot find the file specified: 'openapi.yml'"
     ]
    }
   ],
   "source": [
    "import os\n",
    "os.remove(f\"{output_dir}/openapi.yml\")\n",
    "os.remove(f\"{output_dir}/openapi.json\")"
   ]
  },
  {
   "cell_type": "code",
   "execution_count": null,
   "metadata": {},
   "outputs": [],
   "source": [
    "function_names, function_docs, import_statements = create_function_names_docs_import_statements(output_dir)\n",
    "print(function_docs)"
   ]
  },
  {
   "cell_type": "code",
   "execution_count": null,
   "metadata": {},
   "outputs": [],
   "source": [
    "doc_ids = []\n",
    "doc_metadatas = []\n",
    "counter = 0\n",
    "for function_doc in function_docs:\n",
    "    doc_ids.append(str(generate_hash(function_doc)))\n",
    "    doc_metadatas.append({\"function_name\": function_names[counter], \"openapi_uri\": \"https://raw.githubusercontent.com/open-meteo/open-meteo/main/openapi.yml\", \"end_point\": \"https://api.open-meteo.com\", \"import_statement\": import_statements[counter], \"type\": \"native\"})\n",
    "    counter = counter + 1\n",
    "    print(str(generate_hash(function_doc)))"
   ]
  },
  {
   "cell_type": "code",
   "execution_count": null,
   "metadata": {},
   "outputs": [],
   "source": [
    "collection = chroma_client.get_or_create_collection(name=\"tools\")\n",
    "collection.add(\n",
    "    documents=function_docs,\n",
    "    metadatas=doc_metadatas,\n",
    "    ids=doc_ids\n",
    ")\n"
   ]
  },
  {
   "cell_type": "code",
   "execution_count": null,
   "metadata": {},
   "outputs": [],
   "source": [
    "user_query = \"Hey how is the current weather and windspeed in New York?\""
   ]
  },
  {
   "cell_type": "code",
   "execution_count": null,
   "metadata": {},
   "outputs": [],
   "source": [
    "prompt = f'''\n",
    "    Function:\n",
    "    no_op():\n",
    "    \"\"\"\n",
    "    Default OOD\n",
    "    \"\"\"\n",
    "    '''"
   ]
  },
  {
   "cell_type": "code",
   "execution_count": null,
   "metadata": {},
   "outputs": [],
   "source": [
    "results = collection.query(\n",
    "    query_texts=[user_query], \n",
    "    n_results=2, # how many results to return\n",
    "    # include=[\"embeddings\", \"metadatas\", \"documents\", \"distances\"]\n",
    "    include=[\"documents\"]\n",
    ")\n",
    "\n",
    "for items in results[\"documents\"]:\n",
    "    for item in items:\n",
    "        # print(str(item))\n",
    "        prompt += str(item) + \"\\n\"\n",
    "\n",
    "prompt = prompt + f'''User Query: {user_query}<human_end>'''\n",
    "print(prompt)\n"
   ]
  },
  {
   "cell_type": "code",
   "execution_count": null,
   "metadata": {},
   "outputs": [],
   "source": [
    "from utils import query_raven\n",
    "call = query_raven(prompt)\n",
    "print (call)"
   ]
  },
  {
   "cell_type": "code",
   "execution_count": null,
   "metadata": {},
   "outputs": [],
   "source": [
    "for import_statement in import_statements:\n",
    "    exec(import_statement)\n",
    "eval(call)"
   ]
  },
  {
   "cell_type": "code",
   "execution_count": null,
   "metadata": {},
   "outputs": [],
   "source": [
    "count = len(chroma_client.list_collections())\n",
    "print(count)\n",
    "if count > 0:\n",
    "    print(chroma_client.list_collections())"
   ]
  },
  {
   "cell_type": "code",
   "execution_count": null,
   "metadata": {},
   "outputs": [],
   "source": [
    "chroma_client.delete_collection(\"tools\")"
   ]
  },
  {
   "cell_type": "code",
   "execution_count": null,
   "metadata": {},
   "outputs": [],
   "source": [
    "directory_path = 'a41cc9d3b6585b73a594eb1cb0cab5fcd3f67dad09b45c4572583da07b3cc751'\n",
    "import shutil\n",
    "if os.path.exists(directory_path):\n",
    "    shutil.rmtree(directory_path)"
   ]
  }
 ],
 "metadata": {
  "kernelspec": {
   "display_name": "venv",
   "language": "python",
   "name": "python3"
  },
  "language_info": {
   "codemirror_mode": {
    "name": "ipython",
    "version": 3
   },
   "file_extension": ".py",
   "mimetype": "text/x-python",
   "name": "python",
   "nbconvert_exporter": "python",
   "pygments_lexer": "ipython3",
   "version": "3.12.3"
  }
 },
 "nbformat": 4,
 "nbformat_minor": 2
}
